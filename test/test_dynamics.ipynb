{
 "cells": [
  {
   "cell_type": "code",
   "execution_count": 1,
   "metadata": {},
   "outputs": [],
   "source": [
    "import sys\n",
    "sys.path.append('..')\n",
    "import numpy as np\n",
    "from scipy.optimize._numdiff import approx_derivative\n",
    "\n",
    "from dynamics import LowThrustTwoBody\n",
    "from units import *\n",
    "\n",
    "%load_ext autoreload\n",
    "%autoreload 2"
   ]
  },
  {
   "cell_type": "code",
   "execution_count": 2,
   "metadata": {},
   "outputs": [
    {
     "name": "stdout",
     "output_type": "stream",
     "text": [
      "[-2.43176662e-02  9.83301421e-01 -1.51167994e-05 -1.01611007e+00\n",
      " -2.84934750e-02  1.69546982e-06  1.00000000e+00  5.48813504e-02\n",
      "  7.15189366e-02  6.02763376e-02  5.44883183e-02  4.23654799e-02\n",
      "  6.45894113e-02  4.37587211e-02]\n"
     ]
    }
   ],
   "source": [
    "MU = 132712440018  # km^3/s^2\n",
    "g0 = 9.8065e-3  # km/s^2\n",
    "m0 = 4000  # kg\n",
    "Tmax = 0.32e-3  # kN\n",
    "Isp = 3000  # s\n",
    "\n",
    "rv0 = np.array([\n",
    "    -3637871.081, 147099798.784, -2261.441,\n",
    "    -30.265097, -0.8486854, 0.0000505\n",
    "])  # [km] and [km/s]\n",
    "\n",
    "# t0 = 56284 * 86400  # MJD * sec\n",
    "t0 = 0  # MJD * sec\n",
    "dt = 3534 * 86400 / TU\n",
    "tn = t0 + dt\n",
    "\n",
    "# normalize\n",
    "rv0[:3] /= DU\n",
    "rv0[3:] /= (DU / TU)\n",
    "m0 /= MaU\n",
    "MU /= (DU ** 3 / TU ** 2)\n",
    "Tmax /= (MaU * DU / TU ** 2)\n",
    "Isp /= TU\n",
    "g0 /= (DU / TU ** 2)\n",
    "\n",
    "np.random.seed(0)\n",
    "costate = np.random.rand(7) * 0.1\n",
    "x0 = np.r_[rv0, m0, costate]\n",
    "print(x0)"
   ]
  },
  {
   "cell_type": "code",
   "execution_count": 3,
   "metadata": {},
   "outputs": [
    {
     "name": "stdout",
     "output_type": "stream",
     "text": [
      "(14,)\n"
     ]
    }
   ],
   "source": [
    "dyn = LowThrustTwoBody(\n",
    "    mu=MU, thrust_max=Tmax, Isp=Isp, g0=g0, rho=1 \n",
    ")\n",
    "dyn.variation = False\n",
    "print(dyn.time_derivative(t0, x0).shape)"
   ]
  },
  {
   "cell_type": "code",
   "execution_count": 4,
   "metadata": {},
   "outputs": [],
   "source": [
    "def F(X):\n",
    "    return dyn.time_derivative(t0, X)"
   ]
  },
  {
   "cell_type": "code",
   "execution_count": 5,
   "metadata": {},
   "outputs": [],
   "source": [
    "dFdX_num = approx_derivative(F, x0)"
   ]
  },
  {
   "cell_type": "code",
   "execution_count": 6,
   "metadata": {},
   "outputs": [
    {
     "name": "stdout",
     "output_type": "stream",
     "text": [
      "(210,)\n"
     ]
    }
   ],
   "source": [
    "Phi0 = np.eye(14)\n",
    "X0 = np.r_[rv0, m0, costate, Phi0.ravel()]\n",
    "\n",
    "dyn2 = LowThrustTwoBody(\n",
    "    mu=MU, thrust_max=Tmax, Isp=Isp, g0=g0, rho=1 \n",
    ")\n",
    "dyn2.variation = True\n",
    "print(dyn2.time_derivative(t0, X0).shape)"
   ]
  },
  {
   "cell_type": "code",
   "execution_count": 7,
   "metadata": {},
   "outputs": [],
   "source": [
    "dFdX_theo = dyn2.dFdX.jac_arr"
   ]
  },
  {
   "cell_type": "code",
   "execution_count": 8,
   "metadata": {},
   "outputs": [
    {
     "name": "stdout",
     "output_type": "stream",
     "text": [
      "[[ 0.0e+00  0.0e+00  0.0e+00  1.0e+00  0.0e+00  0.0e+00  0.0e+00  0.0e+00\n",
      "   0.0e+00  0.0e+00  0.0e+00  0.0e+00  0.0e+00  0.0e+00]\n",
      " [ 0.0e+00  0.0e+00  0.0e+00  0.0e+00  1.0e+00  0.0e+00  0.0e+00  0.0e+00\n",
      "   0.0e+00  0.0e+00  0.0e+00  0.0e+00  0.0e+00  0.0e+00]\n",
      " [ 0.0e+00  0.0e+00  0.0e+00  0.0e+00  0.0e+00  1.0e+00  0.0e+00  0.0e+00\n",
      "   0.0e+00  0.0e+00  0.0e+00  0.0e+00  0.0e+00  0.0e+00]\n",
      " [-1.0e+00 -7.8e-02  1.2e-06  0.0e+00  0.0e+00  0.0e+00  1.4e-03  0.0e+00\n",
      "   0.0e+00  0.0e+00 -1.6e-02  4.7e-03  7.1e-03 -2.0e-03]\n",
      " [-7.8e-02  2.1e+00 -4.8e-05  0.0e+00  0.0e+00  0.0e+00  1.1e-03  0.0e+00\n",
      "   0.0e+00  0.0e+00  4.7e-03 -1.8e-02  5.6e-03 -1.6e-03]\n",
      " [ 1.2e-06 -4.8e-05 -1.1e+00  0.0e+00  0.0e+00  0.0e+00  1.6e-03  0.0e+00\n",
      "   0.0e+00  0.0e+00  7.1e-03  5.6e-03 -1.3e-02 -2.4e-03]\n",
      " [ 0.0e+00  0.0e+00  0.0e+00  0.0e+00  0.0e+00  0.0e+00  3.3e-04  0.0e+00\n",
      "   0.0e+00  0.0e+00 -2.0e-03 -1.6e-03 -2.4e-03 -3.5e-03]\n",
      " [-1.2e-01 -1.9e-01  5.1e-03  0.0e+00  0.0e+00  0.0e+00  0.0e+00  0.0e+00\n",
      "   0.0e+00  0.0e+00  1.0e+00  7.8e-02 -1.2e-06  0.0e+00]\n",
      " [-1.9e-01  2.5e-01 -2.1e-01  0.0e+00  0.0e+00  0.0e+00  0.0e+00  0.0e+00\n",
      "   0.0e+00  0.0e+00  7.8e-02 -2.1e+00  4.8e-05  0.0e+00]\n",
      " [ 5.1e-03 -2.1e-01 -1.3e-01  0.0e+00  0.0e+00  0.0e+00  0.0e+00  0.0e+00\n",
      "   0.0e+00  0.0e+00 -1.2e-06  4.8e-05  1.1e+00  0.0e+00]\n",
      " [ 0.0e+00  0.0e+00  0.0e+00  0.0e+00  0.0e+00  0.0e+00  0.0e+00 -1.0e+00\n",
      "   0.0e+00  0.0e+00  0.0e+00  0.0e+00  0.0e+00  0.0e+00]\n",
      " [ 0.0e+00  0.0e+00  0.0e+00  0.0e+00  0.0e+00  0.0e+00  0.0e+00  0.0e+00\n",
      "  -1.0e+00  0.0e+00  0.0e+00  0.0e+00  0.0e+00  0.0e+00]\n",
      " [ 0.0e+00  0.0e+00  0.0e+00  0.0e+00  0.0e+00  0.0e+00  0.0e+00  0.0e+00\n",
      "   0.0e+00 -1.0e+00  0.0e+00  0.0e+00  0.0e+00  0.0e+00]\n",
      " [ 0.0e+00  0.0e+00  0.0e+00  0.0e+00  0.0e+00  0.0e+00  4.2e-04  0.0e+00\n",
      "   0.0e+00  0.0e+00 -1.4e-03 -1.1e-03 -1.6e-03 -3.3e-04]]\n"
     ]
    }
   ],
   "source": [
    "with np.printoptions(precision=1):\n",
    "    print(dFdX_num)"
   ]
  },
  {
   "cell_type": "code",
   "execution_count": 9,
   "metadata": {},
   "outputs": [
    {
     "name": "stdout",
     "output_type": "stream",
     "text": [
      "[[ 0.0e+00  0.0e+00  0.0e+00  1.0e+00  0.0e+00  0.0e+00  0.0e+00  0.0e+00\n",
      "   0.0e+00  0.0e+00  0.0e+00  0.0e+00  0.0e+00  0.0e+00]\n",
      " [ 0.0e+00  0.0e+00  0.0e+00  0.0e+00  1.0e+00  0.0e+00  0.0e+00  0.0e+00\n",
      "   0.0e+00  0.0e+00  0.0e+00  0.0e+00  0.0e+00  0.0e+00]\n",
      " [ 0.0e+00  0.0e+00  0.0e+00  0.0e+00  0.0e+00  1.0e+00  0.0e+00  0.0e+00\n",
      "   0.0e+00  0.0e+00  0.0e+00  0.0e+00  0.0e+00  0.0e+00]\n",
      " [-1.0e+00 -7.8e-02  1.2e-06  0.0e+00  0.0e+00  0.0e+00  1.4e-03  0.0e+00\n",
      "   0.0e+00  0.0e+00 -1.6e-02  4.7e-03  7.1e-03 -2.0e-03]\n",
      " [-7.8e-02  2.1e+00 -4.8e-05  0.0e+00  0.0e+00  0.0e+00  1.1e-03  0.0e+00\n",
      "   0.0e+00  0.0e+00  4.7e-03 -1.8e-02  5.6e-03 -1.6e-03]\n",
      " [ 1.2e-06 -4.8e-05 -1.1e+00  0.0e+00  0.0e+00  0.0e+00  1.6e-03  0.0e+00\n",
      "   0.0e+00  0.0e+00  7.1e-03  5.6e-03 -1.3e-02 -2.4e-03]\n",
      " [ 0.0e+00  0.0e+00  0.0e+00  0.0e+00  0.0e+00  0.0e+00  3.3e-04  0.0e+00\n",
      "   0.0e+00  0.0e+00 -2.0e-03 -1.6e-03 -2.4e-03 -3.5e-03]\n",
      " [-1.2e-01 -1.9e-01  5.1e-03  0.0e+00  0.0e+00  0.0e+00  0.0e+00  0.0e+00\n",
      "   0.0e+00  0.0e+00  1.0e+00  7.8e-02 -1.2e-06  0.0e+00]\n",
      " [-1.9e-01  2.5e-01 -2.1e-01  0.0e+00  0.0e+00  0.0e+00  0.0e+00  0.0e+00\n",
      "   0.0e+00  0.0e+00  7.8e-02 -2.1e+00  4.8e-05  0.0e+00]\n",
      " [ 5.1e-03 -2.1e-01 -1.3e-01  0.0e+00  0.0e+00  0.0e+00  0.0e+00  0.0e+00\n",
      "   0.0e+00  0.0e+00 -1.2e-06  4.8e-05  1.1e+00  0.0e+00]\n",
      " [ 0.0e+00  0.0e+00  0.0e+00  0.0e+00  0.0e+00  0.0e+00  0.0e+00 -1.0e+00\n",
      "  -0.0e+00 -0.0e+00  0.0e+00  0.0e+00  0.0e+00  0.0e+00]\n",
      " [ 0.0e+00  0.0e+00  0.0e+00  0.0e+00  0.0e+00  0.0e+00  0.0e+00 -0.0e+00\n",
      "  -1.0e+00 -0.0e+00  0.0e+00  0.0e+00  0.0e+00  0.0e+00]\n",
      " [ 0.0e+00  0.0e+00  0.0e+00  0.0e+00  0.0e+00  0.0e+00  0.0e+00 -0.0e+00\n",
      "  -0.0e+00 -1.0e+00  0.0e+00  0.0e+00  0.0e+00  0.0e+00]\n",
      " [ 0.0e+00  0.0e+00  0.0e+00  0.0e+00  0.0e+00  0.0e+00  4.2e-04  0.0e+00\n",
      "   0.0e+00  0.0e+00 -1.4e-03 -1.1e-03 -1.6e-03 -3.3e-04]]\n"
     ]
    }
   ],
   "source": [
    "with np.printoptions(precision=1):\n",
    "    print(dFdX_theo)"
   ]
  },
  {
   "cell_type": "code",
   "execution_count": 10,
   "metadata": {},
   "outputs": [
    {
     "name": "stdout",
     "output_type": "stream",
     "text": [
      "[[ 0.0e+00  0.0e+00  0.0e+00  0.0e+00  0.0e+00  0.0e+00  0.0e+00  0.0e+00\n",
      "   0.0e+00  0.0e+00  0.0e+00  0.0e+00  0.0e+00  0.0e+00]\n",
      " [ 0.0e+00  0.0e+00  0.0e+00  0.0e+00  0.0e+00  0.0e+00  0.0e+00  0.0e+00\n",
      "   0.0e+00  0.0e+00  0.0e+00  0.0e+00  0.0e+00  0.0e+00]\n",
      " [ 0.0e+00  0.0e+00  0.0e+00  0.0e+00  0.0e+00  0.0e+00  0.0e+00  0.0e+00\n",
      "   0.0e+00  0.0e+00  0.0e+00  0.0e+00  0.0e+00  0.0e+00]\n",
      " [ 5.9e-11 -9.4e-12  1.5e-12  0.0e+00  0.0e+00  0.0e+00 -1.9e-13  0.0e+00\n",
      "   0.0e+00  0.0e+00 -1.7e-11 -1.9e-11 -9.9e-12  7.7e-14]\n",
      " [ 2.1e-11  1.3e-10 -5.8e-11  0.0e+00  0.0e+00  0.0e+00 -1.1e-11  0.0e+00\n",
      "   0.0e+00  0.0e+00 -9.7e-12  1.3e-11 -4.4e-12  8.2e-13]\n",
      " [ 2.5e-15 -2.1e-14  6.0e-11  0.0e+00  0.0e+00  0.0e+00  8.2e-15  0.0e+00\n",
      "   0.0e+00  0.0e+00 -2.0e-11 -2.3e-11 -2.7e-11  6.4e-14]\n",
      " [ 0.0e+00  0.0e+00  0.0e+00  0.0e+00  0.0e+00  0.0e+00 -6.0e-14  0.0e+00\n",
      "   0.0e+00  0.0e+00  2.4e-12  2.1e-12  2.2e-12  1.2e-13]\n",
      " [ 1.0e-11 -2.3e-11  4.3e-12  0.0e+00  0.0e+00  0.0e+00  0.0e+00  0.0e+00\n",
      "   0.0e+00  0.0e+00  6.5e-14 -2.1e-13 -5.6e-14  0.0e+00]\n",
      " [ 2.3e-11  2.8e-11  9.6e-12  0.0e+00  0.0e+00  0.0e+00  0.0e+00  0.0e+00\n",
      "   0.0e+00  0.0e+00 -7.8e-13  5.0e-13  2.2e-13  0.0e+00]\n",
      " [-2.0e-12 -2.4e-11  1.7e-11  0.0e+00  0.0e+00  0.0e+00  0.0e+00  0.0e+00\n",
      "   0.0e+00  0.0e+00 -5.6e-14  2.2e-13  5.3e-13  0.0e+00]\n",
      " [ 0.0e+00  0.0e+00  0.0e+00  0.0e+00  0.0e+00  0.0e+00  0.0e+00  0.0e+00\n",
      "   0.0e+00  0.0e+00  0.0e+00  0.0e+00  0.0e+00  0.0e+00]\n",
      " [ 0.0e+00  0.0e+00  0.0e+00  0.0e+00  0.0e+00  0.0e+00  0.0e+00  0.0e+00\n",
      "   0.0e+00  0.0e+00  0.0e+00  0.0e+00  0.0e+00  0.0e+00]\n",
      " [ 0.0e+00  0.0e+00  0.0e+00  0.0e+00  0.0e+00  0.0e+00  0.0e+00  0.0e+00\n",
      "   0.0e+00  0.0e+00  0.0e+00  0.0e+00  0.0e+00  0.0e+00]\n",
      " [ 0.0e+00  0.0e+00  0.0e+00  0.0e+00  0.0e+00  0.0e+00  2.3e-14  0.0e+00\n",
      "   0.0e+00  0.0e+00  1.3e-12  1.2e-12  1.2e-12  1.1e-14]]\n"
     ]
    }
   ],
   "source": [
    "with np.printoptions(precision=1):\n",
    "    print(dFdX_num - dFdX_theo)"
   ]
  },
  {
   "cell_type": "code",
   "execution_count": 11,
   "metadata": {},
   "outputs": [
    {
     "name": "stdout",
     "output_type": "stream",
     "text": [
      "1.318563036534215e-10\n",
      "(4, 1)\n"
     ]
    }
   ],
   "source": [
    "print(np.max(abs(dFdX_num - dFdX_theo)))\n",
    "max_idx = np.argmax(abs(dFdX_num - dFdX_theo))\n",
    "print(np.unravel_index(max_idx, dFdX_num.shape))"
   ]
  },
  {
   "cell_type": "code",
   "execution_count": 12,
   "metadata": {},
   "outputs": [
    {
     "name": "stdout",
     "output_type": "stream",
     "text": [
      "31.3 µs ± 118 ns per loop (mean ± std. dev. of 7 runs, 10,000 loops each)\n"
     ]
    }
   ],
   "source": [
    "%%timeit\n",
    "dyn.time_derivative(t0, x0)\n",
    "# 35.6 µs ± 497 ns per loop (mean ± std. dev. of 7 runs, 10,000 loops each)"
   ]
  },
  {
   "cell_type": "code",
   "execution_count": 13,
   "metadata": {},
   "outputs": [
    {
     "name": "stdout",
     "output_type": "stream",
     "text": [
      "430 µs ± 1.39 µs per loop (mean ± std. dev. of 7 runs, 1,000 loops each)\n"
     ]
    }
   ],
   "source": [
    "%%timeit\n",
    "dyn2.time_derivative(t0, X0)\n",
    "# 440 µs ± 1.3 µs per loop (mean ± std. dev. of 7 runs, 1,000 loops each)"
   ]
  }
 ],
 "metadata": {
  "kernelspec": {
   "display_name": "traj",
   "language": "python",
   "name": "python3"
  },
  "language_info": {
   "codemirror_mode": {
    "name": "ipython",
    "version": 3
   },
   "file_extension": ".py",
   "mimetype": "text/x-python",
   "name": "python",
   "nbconvert_exporter": "python",
   "pygments_lexer": "ipython3",
   "version": "3.9.17"
  },
  "orig_nbformat": 4
 },
 "nbformat": 4,
 "nbformat_minor": 2
}
