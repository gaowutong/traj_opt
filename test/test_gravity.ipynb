{
 "cells": [
  {
   "cell_type": "code",
   "execution_count": 1,
   "metadata": {},
   "outputs": [],
   "source": [
    "import sys\n",
    "sys.path.append('..')\n",
    "import numpy as np\n",
    "from gravity import g, dgdr, d2gdr2\n",
    "from scipy.optimize._numdiff import approx_derivative"
   ]
  },
  {
   "cell_type": "code",
   "execution_count": 2,
   "metadata": {},
   "outputs": [
    {
     "data": {
      "text/plain": [
       "array([-0.01909009, -0.03818018, -0.05727027])"
      ]
     },
     "execution_count": 2,
     "metadata": {},
     "output_type": "execute_result"
    }
   ],
   "source": [
    "r = np.array([1., 2., 3.])\n",
    "g(r)"
   ]
  },
  {
   "cell_type": "code",
   "execution_count": 3,
   "metadata": {},
   "outputs": [
    {
     "data": {
      "text/plain": [
       "array([[-4.29243446e-13, -6.90397392e-13,  3.83143170e-13],\n",
       "       [-1.12010574e-12, -1.53645759e-12,  7.66286340e-13],\n",
       "       [-1.68015775e-12, -2.21442309e-12, -3.80265264e-13]])"
      ]
     },
     "execution_count": 3,
     "metadata": {},
     "output_type": "execute_result"
    }
   ],
   "source": [
    "approx_derivative(\n",
    "    g, r\n",
    ") - dgdr(r)"
   ]
  },
  {
   "cell_type": "code",
   "execution_count": 4,
   "metadata": {},
   "outputs": [
    {
     "data": {
      "text/plain": [
       "array([[-0.01499936,  0.00818147,  0.0122722 ],\n",
       "       [ 0.00818147, -0.00272716,  0.0245444 ],\n",
       "       [ 0.0122722 ,  0.0245444 ,  0.01772651]])"
      ]
     },
     "execution_count": 4,
     "metadata": {},
     "output_type": "execute_result"
    }
   ],
   "source": [
    "dgdr(r)"
   ]
  },
  {
   "cell_type": "code",
   "execution_count": 5,
   "metadata": {},
   "outputs": [
    {
     "name": "stdout",
     "output_type": "stream",
     "text": [
      "[[-4.16099447e-13 -4.54057798e-13  8.26075319e-14]\n",
      " [ 1.18888406e-13  4.85571435e-13 -6.48814336e-13]\n",
      " [-3.65211333e-14  6.37399855e-13 -2.32775604e-13]]\n",
      "[[ 1.18888406e-13  4.85571435e-13 -6.48814336e-13]\n",
      " [-3.73847221e-13  1.63294725e-13 -9.14488103e-13]\n",
      " [ 7.09017914e-13  1.45671409e-12 -4.65551209e-13]]\n",
      "[[-3.65211333e-14  6.37399855e-13 -2.32775604e-13]\n",
      " [ 7.09017914e-13  1.45671409e-12 -4.65551209e-13]\n",
      " [ 2.17000029e-13  1.43665635e-12  9.27371461e-13]]\n"
     ]
    }
   ],
   "source": [
    "for i in range(3):\n",
    "    print(approx_derivative(\n",
    "        lambda r: dgdr(r)[i], r\n",
    "    ) - d2gdr2(r)[i])"
   ]
  },
  {
   "cell_type": "code",
   "execution_count": 6,
   "metadata": {},
   "outputs": [
    {
     "data": {
      "text/plain": [
       "array([[[ 0.01081122,  0.00525951,  0.00788927],\n",
       "        [ 0.00525951, -0.00175317, -0.00876586],\n",
       "        [ 0.00788927, -0.00876586, -0.00905805]],\n",
       "\n",
       "       [[ 0.00525951, -0.00175317, -0.00876586],\n",
       "        [-0.00175317,  0.01285659, -0.00525951],\n",
       "        [-0.00876586, -0.00525951, -0.0181161 ]],\n",
       "\n",
       "       [[ 0.00788927, -0.00876586, -0.00905805],\n",
       "        [-0.00876586, -0.00525951, -0.0181161 ],\n",
       "        [-0.00905805, -0.0181161 , -0.00262976]]])"
      ]
     },
     "execution_count": 6,
     "metadata": {},
     "output_type": "execute_result"
    }
   ],
   "source": [
    "d2gdr2(r)"
   ]
  },
  {
   "cell_type": "code",
   "execution_count": 7,
   "metadata": {},
   "outputs": [
    {
     "name": "stdout",
     "output_type": "stream",
     "text": [
      "1.02 µs ± 4.72 ns per loop (mean ± std. dev. of 7 runs, 1,000,000 loops each)\n"
     ]
    }
   ],
   "source": [
    "%%timeit\n",
    "g(r)"
   ]
  },
  {
   "cell_type": "code",
   "execution_count": 8,
   "metadata": {},
   "outputs": [
    {
     "name": "stdout",
     "output_type": "stream",
     "text": [
      "1.37 µs ± 5.56 ns per loop (mean ± std. dev. of 7 runs, 1,000,000 loops each)\n"
     ]
    }
   ],
   "source": [
    "%%timeit\n",
    "dgdr(r)"
   ]
  },
  {
   "cell_type": "code",
   "execution_count": 9,
   "metadata": {},
   "outputs": [
    {
     "name": "stdout",
     "output_type": "stream",
     "text": [
      "1.08 µs ± 5.72 ns per loop (mean ± std. dev. of 7 runs, 1,000,000 loops each)\n"
     ]
    }
   ],
   "source": [
    "%%timeit\n",
    "d2gdr2(r)"
   ]
  }
 ],
 "metadata": {
  "kernelspec": {
   "display_name": "traj",
   "language": "python",
   "name": "python3"
  },
  "language_info": {
   "codemirror_mode": {
    "name": "ipython",
    "version": 3
   },
   "file_extension": ".py",
   "mimetype": "text/x-python",
   "name": "python",
   "nbconvert_exporter": "python",
   "pygments_lexer": "ipython3",
   "version": "3.9.17"
  },
  "orig_nbformat": 4
 },
 "nbformat": 4,
 "nbformat_minor": 2
}
