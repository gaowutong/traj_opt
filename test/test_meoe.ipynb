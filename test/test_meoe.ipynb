{
 "cells": [
  {
   "cell_type": "code",
   "execution_count": 1,
   "metadata": {},
   "outputs": [],
   "source": [
    "import sys\n",
    "sys.path.append('..')\n",
    "import numpy as np\n",
    "from meoe import AB, dAB\n",
    "from scipy.optimize._numdiff import approx_derivative"
   ]
  },
  {
   "cell_type": "code",
   "execution_count": 2,
   "metadata": {},
   "outputs": [],
   "source": [
    "from numba import njit"
   ]
  },
  {
   "cell_type": "code",
   "execution_count": 3,
   "metadata": {},
   "outputs": [],
   "source": [
    "# @njit\n",
    "# def f(x):\n",
    "#     return np.array([\n",
    "#         [0., 0.],\n",
    "#         [1.0, 2.0]\n",
    "#     ])\n",
    "\n",
    "# f(1.0)"
   ]
  },
  {
   "cell_type": "code",
   "execution_count": 4,
   "metadata": {},
   "outputs": [],
   "source": [
    "np.random.seed(0)\n",
    "els = np.random.rand(6)\n",
    "mu = 1.0\n",
    "\n",
    "A, B = AB(els, mu)\n",
    "dA, dB = dAB(els, mu)"
   ]
  },
  {
   "cell_type": "code",
   "execution_count": 5,
   "metadata": {},
   "outputs": [],
   "source": [
    "dA_num = approx_derivative(\n",
    "    lambda els: AB(els, mu)[0], els\n",
    ")"
   ]
  },
  {
   "cell_type": "code",
   "execution_count": 13,
   "metadata": {},
   "outputs": [
    {
     "name": "stdout",
     "output_type": "stream",
     "text": [
      "4.38164349247927e-09\n",
      "[[  0.           0.           0.           0.           0.\n",
      "    0.        ]\n",
      " [  0.           0.           0.           0.           0.\n",
      "    0.        ]\n",
      " [  0.           0.           0.           0.           0.\n",
      "    0.        ]\n",
      " [  0.           0.           0.           0.           0.\n",
      "    0.        ]\n",
      " [  0.           0.           0.           0.           0.\n",
      "    0.        ]\n",
      " [-25.14273639   7.59701581   5.72621875   0.           0.\n",
      "    0.48387214]]\n"
     ]
    }
   ],
   "source": [
    "print(np.max(np.abs(dA - dA_num)))\n",
    "print(dA)"
   ]
  },
  {
   "cell_type": "code",
   "execution_count": 7,
   "metadata": {},
   "outputs": [],
   "source": [
    "dB_num = approx_derivative(\n",
    "    lambda els: AB(els, mu)[1].ravel(), els\n",
    ").reshape(6, 3, 6)"
   ]
  },
  {
   "cell_type": "code",
   "execution_count": 8,
   "metadata": {},
   "outputs": [
    {
     "data": {
      "text/plain": [
       "(6, 3, 6)"
      ]
     },
     "execution_count": 8,
     "metadata": {},
     "output_type": "execute_result"
    }
   ],
   "source": [
    "dB_num.shape"
   ]
  },
  {
   "cell_type": "code",
   "execution_count": 12,
   "metadata": {},
   "outputs": [
    {
     "name": "stdout",
     "output_type": "stream",
     "text": [
      "2.0360019226117743e-11\n",
      "[[[ 0.00000000e+00  0.00000000e+00  0.00000000e+00  0.00000000e+00\n",
      "    0.00000000e+00  0.00000000e+00]\n",
      "  [ 1.14919049e+00 -1.73617107e-01 -1.30863165e-01  0.00000000e+00\n",
      "    0.00000000e+00 -1.10580894e-02]\n",
      "  [ 0.00000000e+00  0.00000000e+00  0.00000000e+00  0.00000000e+00\n",
      "    0.00000000e+00  0.00000000e+00]]\n",
      "\n",
      " [[ 4.06247877e-01  0.00000000e+00  0.00000000e+00  0.00000000e+00\n",
      "    0.00000000e+00  5.91590219e-01]\n",
      "  [ 1.06725970e+00  1.43625950e-01 -1.80475044e-01  0.00000000e+00\n",
      "    0.00000000e+00 -6.91729769e-01]\n",
      "  [ 2.17564374e-03 -9.86074048e-04  3.21857968e-03 -1.38979620e-01\n",
      "    1.84385266e-01 -1.59410619e-01]]\n",
      "\n",
      " [[-5.38971995e-01  0.00000000e+00  0.00000000e+00  0.00000000e+00\n",
      "    0.00000000e+00  4.45908642e-01]\n",
      "  [ 8.26670679e-01 -1.90549586e-01  2.39437545e-01  0.00000000e+00\n",
      "    0.00000000e+00  8.85353575e-01]\n",
      "  [-2.58143964e-03 -2.79183461e-03  8.81878238e-04  1.64901767e-01\n",
      "   -2.18776367e-01  1.89143508e-01]]\n",
      "\n",
      " [[ 0.00000000e+00  0.00000000e+00  0.00000000e+00  0.00000000e+00\n",
      "    0.00000000e+00  0.00000000e+00]\n",
      "  [ 0.00000000e+00  0.00000000e+00  0.00000000e+00  0.00000000e+00\n",
      "    0.00000000e+00  0.00000000e+00]\n",
      "  [ 2.05727830e-01 -9.32426897e-02 -7.02812857e-02  1.66679720e-01\n",
      "    1.29595967e-01 -1.76144015e-01]]\n",
      "\n",
      " [[ 0.00000000e+00  0.00000000e+00  0.00000000e+00  0.00000000e+00\n",
      "    0.00000000e+00  0.00000000e+00]\n",
      "  [ 0.00000000e+00  0.00000000e+00  0.00000000e+00  0.00000000e+00\n",
      "    0.00000000e+00  0.00000000e+00]\n",
      "  [ 1.55066488e-01 -7.02812857e-02 -5.29742238e-02  1.25634138e-01\n",
      "    9.76824160e-02  2.21336039e-01]]\n",
      "\n",
      " [[ 0.00000000e+00  0.00000000e+00  0.00000000e+00  0.00000000e+00\n",
      "    0.00000000e+00  0.00000000e+00]\n",
      "  [ 0.00000000e+00  0.00000000e+00  0.00000000e+00  0.00000000e+00\n",
      "    0.00000000e+00  0.00000000e+00]\n",
      "  [-3.60944913e-03  1.63592230e-03  1.23306956e-03  2.30570776e-01\n",
      "   -3.05899916e-01  2.64466331e-01]]]\n"
     ]
    }
   ],
   "source": [
    "delta_dB = dB - dB_num\n",
    "print(np.max(np.abs(delta_dB)))\n",
    "print(dB)"
   ]
  },
  {
   "cell_type": "code",
   "execution_count": 10,
   "metadata": {},
   "outputs": [
    {
     "name": "stdout",
     "output_type": "stream",
     "text": [
      "2.04 µs ± 11.4 ns per loop (mean ± std. dev. of 7 runs, 100,000 loops each)\n"
     ]
    }
   ],
   "source": [
    "%%timeit\n",
    "A, B = AB(els, mu)\n",
    "# 2 µs ± 7.83 ns per loop (mean ± std. dev. of 7 runs, 100,000 loops each)"
   ]
  },
  {
   "cell_type": "code",
   "execution_count": 11,
   "metadata": {},
   "outputs": [
    {
     "name": "stdout",
     "output_type": "stream",
     "text": [
      "4.76 µs ± 15.1 ns per loop (mean ± std. dev. of 7 runs, 100,000 loops each)\n"
     ]
    }
   ],
   "source": [
    "%%timeit\n",
    "dA, dB = dAB(els, mu)\n",
    "# 4.44 µs ± 7.48 ns per loop (mean ± std. dev. of 7 runs, 100,000 loops each)"
   ]
  }
 ],
 "metadata": {
  "kernelspec": {
   "display_name": "traj",
   "language": "python",
   "name": "python3"
  },
  "language_info": {
   "codemirror_mode": {
    "name": "ipython",
    "version": 3
   },
   "file_extension": ".py",
   "mimetype": "text/x-python",
   "name": "python",
   "nbconvert_exporter": "python",
   "pygments_lexer": "ipython3",
   "version": "3.9.17"
  },
  "orig_nbformat": 4
 },
 "nbformat": 4,
 "nbformat_minor": 2
}
